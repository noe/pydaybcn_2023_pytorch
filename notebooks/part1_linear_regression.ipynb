{
 "cells": [
  {
   "cell_type": "markdown",
   "metadata": {
    "colab_type": "text",
    "id": "IvillL15IlwH"
   },
   "source": [
    "This notebook illustrates the computation of a linear regression using PyTorch.\n",
    "\n",
    "We will use the IRIS dataset, which provides width and height of iris flowers petals and sepals, as well as their species (Iris setosa, Iris virginica and Iris versicolor).\n",
    "\n",
    "You can find more information about the IRIS dataset in:\n",
    "- https://en.wikipedia.org/wiki/Iris_flower_data_set\n",
    "- https://archive.ics.uci.edu/ml/datasets/iris\n",
    "\n",
    "\n",
    "We will try to predict one of the data attributes\n",
    "\n"
   ]
  },
  {
   "cell_type": "markdown",
   "metadata": {
    "colab_type": "text",
    "id": "feNsHQLqJ7Y2"
   },
   "source": [
    "First, we need to install some python libraries that will be used. For that, we run `pip` through the %system magic (see https://ipython.readthedocs.io/en/stable/interactive/magics.html#magic-system)"
   ]
  },
  {
   "cell_type": "code",
   "execution_count": 1,
   "metadata": {
    "colab": {
     "base_uri": "https://localhost:8080/",
     "height": 255
    },
    "colab_type": "code",
    "executionInfo": {
     "elapsed": 13143,
     "status": "ok",
     "timestamp": 1579170173401,
     "user": {
      "displayName": "Noé Casas",
      "photoUrl": "https://lh3.googleusercontent.com/a-/AAuE7mDGlw-X22xGNGqJghtCZLMeavg1ImQz7_NVNHcf7g=s64",
      "userId": "07955841278825489857"
     },
     "user_tz": -60
    },
    "id": "jZFLYC2-JN2x",
    "outputId": "f41de394-b21b-4fa5-c8f4-52bfd14b67e8"
   },
   "outputs": [],
   "source": [
    "!pip install matplotlib --quiet\n",
    "!pip install scikit-learn --quiet\n",
    "!pip install torch --quiet"
   ]
  },
  {
   "cell_type": "markdown",
   "metadata": {
    "colab_type": "text",
    "id": "ge8v1DZpHd0F"
   },
   "source": [
    "Import all the modules we will need throughout the notebook."
   ]
  },
  {
   "cell_type": "code",
   "execution_count": 2,
   "metadata": {
    "colab": {},
    "colab_type": "code",
    "id": "XEmFQI-WJwEU"
   },
   "outputs": [],
   "source": [
    "import numpy as np\n",
    "from sklearn import datasets\n",
    "import matplotlib.pyplot as plt\n",
    "import random\n",
    "import torch\n",
    "import torch.nn as nn"
   ]
  },
  {
   "cell_type": "markdown",
   "metadata": {
    "colab_type": "text",
    "id": "dQEBuCj43Zhy"
   },
   "source": [
    "We set the random seed to ensure reproducibility of our results (see https://pytorch.org/docs/stable/notes/randomness.html)\n"
   ]
  },
  {
   "cell_type": "code",
   "execution_count": 3,
   "metadata": {
    "colab": {},
    "colab_type": "code",
    "id": "_ACbbent3e80"
   },
   "outputs": [],
   "source": [
    "seed = 20\n",
    "torch.manual_seed(seed)\n",
    "torch.backends.cudnn.deterministic = True\n",
    "torch.backends.cudnn.benchmark = False\n",
    "np.random.seed(seed)\n",
    "random.seed(seed)"
   ]
  },
  {
   "cell_type": "markdown",
   "metadata": {
    "colab_type": "text",
    "id": "OLIWEaQlHcrO"
   },
   "source": [
    "Load the IRIS dataset. As X values, we use the sepal length (in cm). As Y values we use the petal width (in cm).\n",
    "\n",
    "See the details of all the data fields in https://scikit-learn.org/stable/datasets/index.html#iris-dataset"
   ]
  },
  {
   "cell_type": "markdown",
   "metadata": {
    "colab_type": "text",
    "id": "1nXSZ7Hj3eRs"
   },
   "source": []
  },
  {
   "cell_type": "code",
   "execution_count": 4,
   "metadata": {
    "colab": {
     "base_uri": "https://localhost:8080/",
     "height": 265
    },
    "colab_type": "code",
    "executionInfo": {
     "elapsed": 16999,
     "status": "ok",
     "timestamp": 1579170177289,
     "user": {
      "displayName": "Noé Casas",
      "photoUrl": "https://lh3.googleusercontent.com/a-/AAuE7mDGlw-X22xGNGqJghtCZLMeavg1ImQz7_NVNHcf7g=s64",
      "userId": "07955841278825489857"
     },
     "user_tz": -60
    },
    "id": "TA-OYCfRJkOD",
    "outputId": "22ea6240-9217-40f0-c392-77c6b1549313"
   },
   "outputs": [
    {
     "data": {
      "image/png": "[encoded data removed]",
      "text/plain": [
       "<Figure size 640x480 with 1 Axes>"
      ]
     },
     "metadata": {},
     "output_type": "display_data"
    }
   ],
   "source": [
    "iris = datasets.load_iris()\n",
    "x_vals = np.array([x[3] for x in iris.data])\n",
    "y_vals = np.array([x[0] for x in iris.data])\n",
    "plt.plot(x_vals, y_vals, 'o', label='Data Points')\n",
    "plt.show()"
   ]
  },
  {
   "cell_type": "markdown",
   "metadata": {
    "colab_type": "text",
    "id": "RKseaDrSID9p"
   },
   "source": [
    "We create a model consisting of linear layer, that is a matrix multiplication plus a bias term."
   ]
  },
  {
   "cell_type": "code",
   "execution_count": 5,
   "metadata": {
    "colab": {},
    "colab_type": "code",
    "id": "hsCAuNmjJliZ"
   },
   "outputs": [],
   "source": [
    "model = nn.Linear(1, 1)"
   ]
  },
  {
   "cell_type": "markdown",
   "metadata": {
    "colab_type": "text",
    "id": "Om2wcIGwL-H0"
   },
   "source": [
    "As we are facing a regression problem, an appropriate loss is the Mean Squared Error (MSE)"
   ]
  },
  {
   "cell_type": "code",
   "execution_count": 6,
   "metadata": {
    "colab": {},
    "colab_type": "code",
    "id": "K3o_TT0yL_AT"
   },
   "outputs": [],
   "source": [
    "criterion = nn.MSELoss()"
   ]
  },
  {
   "cell_type": "markdown",
   "metadata": {
    "colab_type": "text",
    "id": "z_i927IXMARi"
   },
   "source": [
    "We will use vanilla Stochastic Gradient Descent (SGD) as optimization algorithm."
   ]
  },
  {
   "cell_type": "code",
   "execution_count": 7,
   "metadata": {
    "colab": {},
    "colab_type": "code",
    "id": "ryV6LMZGMA_i"
   },
   "outputs": [],
   "source": [
    "optimizer = torch.optim.SGD(model.parameters(), lr=0.01) "
   ]
  },
  {
   "cell_type": "markdown",
   "metadata": {
    "colab_type": "text",
    "id": "ZrgBTvbpMcwk"
   },
   "source": [
    "Now we perform the training iterations. At each iteration we train with all our data."
   ]
  },
  {
   "cell_type": "code",
   "execution_count": 8,
   "metadata": {
    "colab": {
     "base_uri": "https://localhost:8080/",
     "height": 265
    },
    "colab_type": "code",
    "executionInfo": {
     "elapsed": 17703,
     "status": "ok",
     "timestamp": 1579170178022,
     "user": {
      "displayName": "Noé Casas",
      "photoUrl": "https://lh3.googleusercontent.com/a-/AAuE7mDGlw-X22xGNGqJghtCZLMeavg1ImQz7_NVNHcf7g=s64",
      "userId": "07955841278825489857"
     },
     "user_tz": -60
    },
    "id": "seT5WQbCRZwc",
    "outputId": "689e314c-afb9-4bfb-e474-ba4a1557028d"
   },
   "outputs": [
    {
     "data": {
      "image/png": "[encoded data removed]",
      "text/plain": [
       "<Figure size 640x480 with 1 Axes>"
      ]
     },
     "metadata": {},
     "output_type": "display_data"
    }
   ],
   "source": [
    "losses = []\n",
    "num_epochs = 200\n",
    "\n",
    "# Inputs and expected outputs are constant across iterations...\n",
    "inputs = torch.Tensor(x_vals).unsqueeze(1)\n",
    "expected_outputs = torch.Tensor(y_vals).unsqueeze(1)\n",
    "# ...we used unsqueeze to add an extra dimension so that the first\n",
    "# dimension is the element within the batch and the second dimention\n",
    "# is the data dimensionality, which is 1.\n",
    "\n",
    "for epoch in range(1, num_epochs + 1):  \n",
    "  # The variable gradients need to be set to zero before anything .\n",
    "  optimizer.zero_grad()\n",
    "  \n",
    "  # Compute the forward pass and the loss.\n",
    "  model_outputs = model(inputs)\n",
    "  loss = criterion(model_outputs, expected_outputs)\n",
    "  \n",
    "  # Backward pass: compute the gradients of the parameters\n",
    "  # with respect to the loss.\n",
    "  loss.backward()\n",
    "  \n",
    "  # Perform the optimization step, upgrading the parameters accoding\n",
    "  # to their gradients computed before.\n",
    "  optimizer.step()\n",
    "  \n",
    "  # with .item() we take the value of the single-element loss tensor\n",
    "  # (see https://pytorch.org/docs/stable/tensors.html#torch.Tensor.item)\n",
    "  loss_value = loss.item()\n",
    "  \n",
    "  # Record the value of the loss across iterations\n",
    "  losses.append(loss_value)\n",
    "\n",
    "# Plot the evolution of the loss\n",
    "plt.plot(losses)\n",
    "plt.show()"
   ]
  },
  {
   "cell_type": "markdown",
   "metadata": {
    "colab_type": "text",
    "id": "mLIuxvJRPk50"
   },
   "source": [
    "Let's visualize the line we got after the training..."
   ]
  },
  {
   "cell_type": "code",
   "execution_count": 9,
   "metadata": {
    "colab": {
     "base_uri": "https://localhost:8080/",
     "height": 265
    },
    "colab_type": "code",
    "executionInfo": {
     "elapsed": 17693,
     "status": "ok",
     "timestamp": 1579170178024,
     "user": {
      "displayName": "Noé Casas",
      "photoUrl": "https://lh3.googleusercontent.com/a-/AAuE7mDGlw-X22xGNGqJghtCZLMeavg1ImQz7_NVNHcf7g=s64",
      "userId": "07955841278825489857"
     },
     "user_tz": -60
    },
    "id": "J9Cgw7sgTrOk",
    "outputId": "2a952a8b-69c3-4fe0-d83a-61b15dcf9c51"
   },
   "outputs": [
    {
     "data": {
      "image/png": "[encoded data removed]",
      "text/plain": [
       "<Figure size 640x480 with 1 Axes>"
      ]
     },
     "metadata": {},
     "output_type": "display_data"
    }
   ],
   "source": [
    "plt.plot(x_vals, y_vals, 'o', label='Data Points')\n",
    "plt.plot(x_vals, model_outputs.detach().numpy(), 'r-', label='Best fit line')\n",
    "plt.show()"
   ]
  }
 ],
 "metadata": {
  "accelerator": "GPU",
  "colab": {
   "collapsed_sections": [],
   "name": "IDL2020_D1P.ipynb",
   "provenance": []
  },
  "kernelspec": {
   "display_name": "Python 3 (ipykernel)",
   "language": "python",
   "name": "python3"
  },
  "language_info": {
   "codemirror_mode": {
    "name": "ipython",
    "version": 3
   },
   "file_extension": ".py",
   "mimetype": "text/x-python",
   "name": "python",
   "nbconvert_exporter": "python",
   "pygments_lexer": "ipython3",
   "version": "3.11.4"
  }
 },
 "nbformat": 4,
 "nbformat_minor": 4
}
