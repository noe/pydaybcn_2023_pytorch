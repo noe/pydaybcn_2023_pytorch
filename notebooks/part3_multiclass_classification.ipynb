{
 "cells": [
  {
   "cell_type": "markdown",
   "metadata": {
    "colab_type": "text",
    "id": "YTe1C5XDclhf"
   },
   "source": [
    "This notebook illustrates the use of convolutional networks for a multiclass classification over the MNIST dataset. This notebook is based on the PyTorch MNIST example: https://github.com/pytorch/examples/tree/master/mnist\n",
    "\n",
    "The MNIST dataset contains handwritten digits like these:\n",
    "\n",
    " ![MNIST samples](https://upload.wikimedia.org/wikipedia/commons/2/27/MnistExamples.png)\n",
    "\n",
    "Each digit is 28x28 pixels and is labeled with the digit it contains, e.g. this is labeled with a \"0\":\n",
    "\n",
    "<img src=\"http://neuralnetworksanddeeplearning.com/images/mnist_complete_zero.png\" width=\"200\">\n"
   ]
  },
  {
   "cell_type": "code",
   "execution_count": 1,
   "metadata": {
    "colab": {
     "base_uri": "https://localhost:8080/",
     "height": 578
    },
    "colab_type": "code",
    "executionInfo": {
     "elapsed": 14633,
     "status": "ok",
     "timestamp": 1579172095016,
     "user": {
      "displayName": "Noé Casas",
      "photoUrl": "https://lh3.googleusercontent.com/a-/AAuE7mDGlw-X22xGNGqJghtCZLMeavg1ImQz7_NVNHcf7g=s64",
      "userId": "07955841278825489857"
     },
     "user_tz": -60
    },
    "id": "ypFnkACT2Iam",
    "outputId": "55607743-d561-402a-a894-3561d0edf63a"
   },
   "outputs": [],
   "source": [
    "!pip install matplotlib --quiet\n",
    "!pip install scikit-learn --quiet\n",
    "!pip install torch --quiet\n",
    "!pip install torchvision --quiet"
   ]
  },
  {
   "cell_type": "code",
   "execution_count": 2,
   "metadata": {
    "colab": {},
    "colab_type": "code",
    "id": "kMd_kEOr2NvZ"
   },
   "outputs": [],
   "source": [
    "import matplotlib.pyplot as plt\n",
    "import numpy as np\n",
    "import random\n",
    "import torch\n",
    "import torch.nn as nn\n",
    "import torch.nn.functional as F\n",
    "import torch.optim as optim\n",
    "from torchvision import datasets, transforms"
   ]
  },
  {
   "cell_type": "code",
   "execution_count": 3,
   "metadata": {
    "colab": {},
    "colab_type": "code",
    "id": "1AnLzYv47HSN"
   },
   "outputs": [],
   "source": [
    "seed = 20\n",
    "torch.manual_seed(seed)\n",
    "torch.backends.cudnn.deterministic = True\n",
    "torch.backends.cudnn.benchmark = False\n",
    "np.random.seed(seed)\n",
    "random.seed(seed)"
   ]
  },
  {
   "cell_type": "markdown",
   "metadata": {
    "colab_type": "text",
    "id": "nzndZca2JgSO"
   },
   "source": [
    "Let's define our model. The standard PyTorch way of doing so is to create a class inheriting from `torch.nn.Module`.\n",
    "\n",
    "In its `__init__` method, we create the layers we are going to need and store them as member variables.\n",
    "\n",
    "In its `forward` method we implement the forward pass computation, making use of the layers we created in the constructor."
   ]
  },
  {
   "cell_type": "code",
   "execution_count": 4,
   "metadata": {
    "colab": {},
    "colab_type": "code",
    "id": "s5DkDQTg2SdP"
   },
   "outputs": [],
   "source": [
    "class Net(nn.Module):\n",
    "    def __init__(self):\n",
    "        super(Net, self).__init__()\n",
    "        self.conv1 = nn.Conv2d(1, 20, 5, 1)\n",
    "        self.conv2 = nn.Conv2d(20, 50, 5, 1)\n",
    "        self.fc1 = nn.Linear(4*4*50, 500)\n",
    "        self.fc2 = nn.Linear(500, 10)\n",
    "\n",
    "    def forward(self, x):\n",
    "        x = F.relu(self.conv1(x))\n",
    "        x = F.max_pool2d(x, 2, 2)\n",
    "        x = F.relu(self.conv2(x))\n",
    "        x = F.max_pool2d(x, 2, 2)\n",
    "        x = x.view(-1, 4*4*50)\n",
    "        x = F.relu(self.fc1(x))\n",
    "        x = self.fc2(x)\n",
    "        return F.log_softmax(x, dim=1)"
   ]
  },
  {
   "cell_type": "markdown",
   "metadata": {
    "colab_type": "text",
    "id": "YLWyr0RpJ9Tj"
   },
   "source": [
    "Now let's create a function that trains over an epoch. Every N steps we will `print` the progress. As input to the training, we are going to assume we receive an iterator to the training batches.\n",
    "\n",
    "Note that, as we are facing a multiclass classification problem, we use the **negative log likelihood** (NLL) as loss function."
   ]
  },
  {
   "cell_type": "code",
   "execution_count": 5,
   "metadata": {
    "colab": {},
    "colab_type": "code",
    "id": "8lVf4Ae52pde"
   },
   "outputs": [],
   "source": [
    "def train(log_interval, model, device, train_loader, optimizer, epoch):\n",
    "    losses = []\n",
    "    model.train()\n",
    "    for batch_idx, (data, target) in enumerate(train_loader):\n",
    "        data, target = data.to(device), target.to(device)\n",
    "        optimizer.zero_grad()\n",
    "        output = model(data)\n",
    "        loss = F.nll_loss(output, target)\n",
    "        loss.backward()\n",
    "        optimizer.step()\n",
    "        losses.append(loss.item())\n",
    "        if batch_idx % log_interval == 0:\n",
    "            print('Train Epoch: {} [{}/{} ({:.0f}%)]\\tLoss: {:.6f}'.format(\n",
    "                epoch, batch_idx * len(data), len(train_loader.dataset),\n",
    "                100. * batch_idx / len(train_loader), loss.item()))\n",
    "    return losses"
   ]
  },
  {
   "cell_type": "markdown",
   "metadata": {
    "colab_type": "text",
    "id": "fj-oQ2erKaXz"
   },
   "source": [
    "And now let's create a similar function but to evaluate the performance of the model over a validation data set:"
   ]
  },
  {
   "cell_type": "code",
   "execution_count": 6,
   "metadata": {
    "colab": {},
    "colab_type": "code",
    "id": "LLnHRErC2wEv"
   },
   "outputs": [],
   "source": [
    "def validate(model, device, loader):\n",
    "    \n",
    "    model.eval()  # let's put the model in evaluation mode\n",
    "\n",
    "    validation_loss = 0\n",
    "    correct = 0\n",
    "    \n",
    "    with torch.no_grad():  # we don't need gradient computation at all\n",
    "        for data, target in loader:\n",
    "            data, target = data.to(device), target.to(device)\n",
    "            output = model(data)\n",
    "            validation_loss += F.nll_loss(output, target, reduction='sum').item() # sum up batch loss\n",
    "            pred = output.argmax(dim=1, keepdim=True) # get the index of the max log-probability\n",
    "            correct += pred.eq(target.view_as(pred)).sum().item()\n",
    "\n",
    "    validation_loss /= len(loader.dataset)\n",
    "\n",
    "    print('\\nValidation set: Average loss: {:.4f}, Accuracy: {}/{} ({:.0f}%)\\n'.format(\n",
    "        validation_loss, correct, len(loader.dataset),\n",
    "        100. * correct / len(loader.dataset)))\n",
    "    \n",
    "    return validation_loss\n"
   ]
  },
  {
   "cell_type": "markdown",
   "metadata": {
    "colab_type": "text",
    "id": "5XeDtTK_LR2B"
   },
   "source": [
    "Now, we will use the dataset from `torchvision` to load MNIST and the PyTorch loaders to get iterators to the batches, for both training and validation data.\n",
    "\n",
    "Note that we apply a linear transformation to normalize the data."
   ]
  },
  {
   "cell_type": "code",
   "execution_count": 7,
   "metadata": {
    "colab": {
     "base_uri": "https://localhost:8080/",
     "height": 255
    },
    "colab_type": "code",
    "executionInfo": {
     "elapsed": 16095,
     "status": "ok",
     "timestamp": 1579172096579,
     "user": {
      "displayName": "Noé Casas",
      "photoUrl": "https://lh3.googleusercontent.com/a-/AAuE7mDGlw-X22xGNGqJghtCZLMeavg1ImQz7_NVNHcf7g=s64",
      "userId": "07955841278825489857"
     },
     "user_tz": -60
    },
    "id": "rDkgOWa12zJ5",
    "outputId": "c5434409-414c-4f5b-d3cb-86efb2b8fdb5"
   },
   "outputs": [],
   "source": [
    "train_batch_size = 128\n",
    "\n",
    "mnist_mean = 0.1307\n",
    "mnist_stddev = 0.3081\n",
    "train_loader = torch.utils.data.DataLoader(\n",
    "    datasets.MNIST('./data',\n",
    "                   train=True,\n",
    "                   download=True,\n",
    "                   transform=transforms.Compose([\n",
    "                       transforms.ToTensor(),\n",
    "                       transforms.Normalize((mnist_mean,), (mnist_stddev,))\n",
    "                   ])),\n",
    "    batch_size=train_batch_size,\n",
    "    shuffle=True)\n",
    "\n",
    "valid_batch_size = 1000\n",
    "valid_loader = torch.utils.data.DataLoader(\n",
    "    datasets.MNIST('./data',\n",
    "                   train=False,\n",
    "                   transform=transforms.Compose([\n",
    "                       transforms.ToTensor(),\n",
    "                       transforms.Normalize((mnist_mean,), (mnist_stddev,))\n",
    "                   ])),\n",
    "    batch_size=valid_batch_size,\n",
    "    shuffle=True)"
   ]
  },
  {
   "cell_type": "markdown",
   "metadata": {
    "colab_type": "text",
    "id": "Shp-xfiCMtBe"
   },
   "source": [
    "And finally, let's create the network, move it to the GPU and iterate through some epochs of training:"
   ]
  },
  {
   "cell_type": "code",
   "execution_count": 8,
   "metadata": {
    "colab": {
     "base_uri": "https://localhost:8080/",
     "height": 1000
    },
    "colab_type": "code",
    "executionInfo": {
     "elapsed": 132046,
     "status": "ok",
     "timestamp": 1579172212540,
     "user": {
      "displayName": "Noé Casas",
      "photoUrl": "https://lh3.googleusercontent.com/a-/AAuE7mDGlw-X22xGNGqJghtCZLMeavg1ImQz7_NVNHcf7g=s64",
      "userId": "07955841278825489857"
     },
     "user_tz": -60
    },
    "id": "cXyU5Joa4Ekh",
    "outputId": "488cdbad-08f3-4a4e-dbe9-b2eab65e08c3"
   },
   "outputs": [
    {
     "name": "stdout",
     "output_type": "stream",
     "text": [
      "Train Epoch: 1 [0/60000 (0%)]\tLoss: 2.309347\n",
      "Train Epoch: 1 [10240/60000 (17%)]\tLoss: 0.624864\n",
      "Train Epoch: 1 [20480/60000 (34%)]\tLoss: 0.269415\n",
      "Train Epoch: 1 [30720/60000 (51%)]\tLoss: 0.162103\n",
      "Train Epoch: 1 [40960/60000 (68%)]\tLoss: 0.309599\n",
      "Train Epoch: 1 [51200/60000 (85%)]\tLoss: 0.212992\n",
      "\n",
      "Validation set: Average loss: 0.1588, Accuracy: 9549/10000 (95%)\n",
      "\n",
      "Train Epoch: 2 [0/60000 (0%)]\tLoss: 0.137701\n",
      "Train Epoch: 2 [10240/60000 (17%)]\tLoss: 0.179176\n",
      "Train Epoch: 2 [20480/60000 (34%)]\tLoss: 0.077824\n",
      "Train Epoch: 2 [30720/60000 (51%)]\tLoss: 0.154186\n",
      "Train Epoch: 2 [40960/60000 (68%)]\tLoss: 0.245193\n",
      "Train Epoch: 2 [51200/60000 (85%)]\tLoss: 0.079581\n",
      "\n",
      "Validation set: Average loss: 0.0914, Accuracy: 9719/10000 (97%)\n",
      "\n",
      "Train Epoch: 3 [0/60000 (0%)]\tLoss: 0.087627\n",
      "Train Epoch: 3 [10240/60000 (17%)]\tLoss: 0.109526\n",
      "Train Epoch: 3 [20480/60000 (34%)]\tLoss: 0.063662\n",
      "Train Epoch: 3 [30720/60000 (51%)]\tLoss: 0.110582\n",
      "Train Epoch: 3 [40960/60000 (68%)]\tLoss: 0.056359\n",
      "Train Epoch: 3 [51200/60000 (85%)]\tLoss: 0.111770\n",
      "\n",
      "Validation set: Average loss: 0.0685, Accuracy: 9799/10000 (98%)\n",
      "\n",
      "Train Epoch: 4 [0/60000 (0%)]\tLoss: 0.056410\n",
      "Train Epoch: 4 [10240/60000 (17%)]\tLoss: 0.047320\n",
      "Train Epoch: 4 [20480/60000 (34%)]\tLoss: 0.069562\n",
      "Train Epoch: 4 [30720/60000 (51%)]\tLoss: 0.109102\n",
      "Train Epoch: 4 [40960/60000 (68%)]\tLoss: 0.094402\n",
      "Train Epoch: 4 [51200/60000 (85%)]\tLoss: 0.092886\n",
      "\n",
      "Validation set: Average loss: 0.0556, Accuracy: 9827/10000 (98%)\n",
      "\n",
      "Train Epoch: 5 [0/60000 (0%)]\tLoss: 0.077755\n",
      "Train Epoch: 5 [10240/60000 (17%)]\tLoss: 0.060522\n",
      "Train Epoch: 5 [20480/60000 (34%)]\tLoss: 0.014292\n",
      "Train Epoch: 5 [30720/60000 (51%)]\tLoss: 0.056904\n",
      "Train Epoch: 5 [40960/60000 (68%)]\tLoss: 0.049647\n",
      "Train Epoch: 5 [51200/60000 (85%)]\tLoss: 0.049914\n",
      "\n",
      "Validation set: Average loss: 0.0545, Accuracy: 9830/10000 (98%)\n",
      "\n",
      "Train Epoch: 6 [0/60000 (0%)]\tLoss: 0.027055\n",
      "Train Epoch: 6 [10240/60000 (17%)]\tLoss: 0.021110\n",
      "Train Epoch: 6 [20480/60000 (34%)]\tLoss: 0.021800\n",
      "Train Epoch: 6 [30720/60000 (51%)]\tLoss: 0.056112\n",
      "Train Epoch: 6 [40960/60000 (68%)]\tLoss: 0.138138\n",
      "Train Epoch: 6 [51200/60000 (85%)]\tLoss: 0.076812\n",
      "\n",
      "Validation set: Average loss: 0.0481, Accuracy: 9846/10000 (98%)\n",
      "\n",
      "Train Epoch: 7 [0/60000 (0%)]\tLoss: 0.045738\n",
      "Train Epoch: 7 [10240/60000 (17%)]\tLoss: 0.066748\n",
      "Train Epoch: 7 [20480/60000 (34%)]\tLoss: 0.034285\n",
      "Train Epoch: 7 [30720/60000 (51%)]\tLoss: 0.021272\n",
      "Train Epoch: 7 [40960/60000 (68%)]\tLoss: 0.053065\n",
      "Train Epoch: 7 [51200/60000 (85%)]\tLoss: 0.055399\n",
      "\n",
      "Validation set: Average loss: 0.0427, Accuracy: 9854/10000 (99%)\n",
      "\n",
      "Train Epoch: 8 [0/60000 (0%)]\tLoss: 0.055572\n",
      "Train Epoch: 8 [10240/60000 (17%)]\tLoss: 0.034241\n",
      "Train Epoch: 8 [20480/60000 (34%)]\tLoss: 0.029770\n",
      "Train Epoch: 8 [30720/60000 (51%)]\tLoss: 0.008189\n",
      "Train Epoch: 8 [40960/60000 (68%)]\tLoss: 0.061590\n",
      "Train Epoch: 8 [51200/60000 (85%)]\tLoss: 0.073254\n",
      "\n",
      "Validation set: Average loss: 0.0385, Accuracy: 9860/10000 (99%)\n",
      "\n",
      "Train Epoch: 9 [0/60000 (0%)]\tLoss: 0.047769\n",
      "Train Epoch: 9 [10240/60000 (17%)]\tLoss: 0.052029\n",
      "Train Epoch: 9 [20480/60000 (34%)]\tLoss: 0.068991\n",
      "Train Epoch: 9 [30720/60000 (51%)]\tLoss: 0.042380\n",
      "Train Epoch: 9 [40960/60000 (68%)]\tLoss: 0.017896\n",
      "Train Epoch: 9 [51200/60000 (85%)]\tLoss: 0.029026\n",
      "\n",
      "Validation set: Average loss: 0.0365, Accuracy: 9876/10000 (99%)\n",
      "\n",
      "Train Epoch: 10 [0/60000 (0%)]\tLoss: 0.034966\n",
      "Train Epoch: 10 [10240/60000 (17%)]\tLoss: 0.115601\n",
      "Train Epoch: 10 [20480/60000 (34%)]\tLoss: 0.053413\n",
      "Train Epoch: 10 [30720/60000 (51%)]\tLoss: 0.064191\n",
      "Train Epoch: 10 [40960/60000 (68%)]\tLoss: 0.007765\n",
      "Train Epoch: 10 [51200/60000 (85%)]\tLoss: 0.027284\n",
      "\n",
      "Validation set: Average loss: 0.0389, Accuracy: 9870/10000 (99%)\n",
      "\n"
     ]
    },
    {
     "data": {
      "image/png": "[encoded data removed]",
      "text/plain": [
       "<Figure size 640x480 with 1 Axes>"
      ]
     },
     "metadata": {},
     "output_type": "display_data"
    }
   ],
   "source": [
    "device = torch.device(\"cuda:0\" if torch.cuda.is_available() else \"cpu\")\n",
    "model = Net().to(device)\n",
    "optimizer = optim.SGD(model.parameters(), lr=0.01, momentum=0.5)\n",
    "\n",
    "train_losses = []\n",
    "valid_losses = []\n",
    "valid_x = []\n",
    "num_epochs = 10\n",
    "for epoch in range(1, num_epochs + 1):\n",
    "    epoch_losses = train(80, model, device, train_loader, optimizer, epoch)\n",
    "    train_losses.extend(epoch_losses)\n",
    "    valid_loss = validate(model, device, valid_loader)\n",
    "    valid_losses.append([valid_loss])\n",
    "    valid_x.append(len(train_losses) - 1)\n",
    "\n",
    "plt.gcf().clear()\n",
    "plt.plot(train_losses, 'b-')\n",
    "plt.plot(valid_x, valid_losses, 'r-')\n",
    "plt.show()"
   ]
  }
 ],
 "metadata": {
  "accelerator": "GPU",
  "colab": {
   "collapsed_sections": [],
   "name": "IDL2020_D3P.ipynb",
   "provenance": []
  },
  "kernelspec": {
   "display_name": "Python 3 (ipykernel)",
   "language": "python",
   "name": "python3"
  },
  "language_info": {
   "codemirror_mode": {
    "name": "ipython",
    "version": 3
   },
   "file_extension": ".py",
   "mimetype": "text/x-python",
   "name": "python",
   "nbconvert_exporter": "python",
   "pygments_lexer": "ipython3",
   "version": "3.11.4"
  }
 },
 "nbformat": 4,
 "nbformat_minor": 4
}
